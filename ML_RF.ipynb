{
 "cells": [
  {
   "cell_type": "code",
   "execution_count": 1,
   "id": "8b72ec10-ee6a-4109-8733-556cde17e051",
   "metadata": {},
   "outputs": [],
   "source": [
    "# Importing the libraries\n",
    "#14065234\n",
    "import numpy as np\n",
    "import matplotlib.pyplot as plt\n",
    "import pandas as pd\n",
    "import dask.dataframe as dd"
   ]
  },
  {
   "cell_type": "code",
   "execution_count": 2,
   "id": "32798c06-c1e7-493e-9b66-b03ff44c9e09",
   "metadata": {},
   "outputs": [],
   "source": [
    "# Modelling\n",
    "from sklearn.ensemble import RandomForestClassifier\n",
    "from sklearn.metrics import accuracy_score, confusion_matrix, precision_score, recall_score, ConfusionMatrixDisplay\n",
    "from sklearn.model_selection import RandomizedSearchCV, train_test_split\n",
    "from scipy.stats import randint\n",
    "\n",
    "# Tree Visualisation\n",
    "from sklearn.tree import export_graphviz\n",
    "from IPython.display import Image\n",
    "import graphviz"
   ]
  },
  {
   "cell_type": "code",
   "execution_count": 3,
   "id": "5e71ee71-341c-4da9-a0d1-f9d6db6482a5",
   "metadata": {
    "scrolled": true
   },
   "outputs": [
    {
     "name": "stdout",
     "output_type": "stream",
     "text": [
      "Index(['LANDSAT_1', 'LANDSAT_2', 'LANDSAT_3', 'LANDSAT_4', 'LANDSAT_5',\n",
      "       'LANDSAT_6', 'LANDSAT_7', 'LANDSAT_8', 'LANDSAT_9', 'prec', 'tmax',\n",
      "       'tmin', 'status'],\n",
      "      dtype='object')\n",
      "[[ 3.32226654  3.50662709  4.16367833 ...  0.08843354  0.83283381\n",
      "   1.30459184]\n",
      " [ 3.4005      3.58373476  4.27122115 ...  0.08843354  0.83283381\n",
      "   1.30459184]\n",
      " [ 3.13058953  3.30050287  3.83548013 ...  0.08843354  0.83283381\n",
      "   1.30459184]\n",
      " ...\n",
      " [-1.38825362 -1.21587871 -1.38409883 ...  1.51947837 -2.96539623\n",
      "  -2.33836453]\n",
      " [-1.43071244 -1.27347081 -1.42713114 ...  1.51947837 -2.96539623\n",
      "  -2.33836453]\n",
      " [-1.49853876 -1.36583453 -1.49699622 ...  1.51947837 -2.96539623\n",
      "  -2.33836453]]\n",
      "[0 0 0 ... 0 0 0]\n"
     ]
    }
   ],
   "source": [
    "# Importing the dataset\n",
    "dataset = pd.read_csv(\"/scratch/ope4/MERGE/BUFFER_EXPORT/combined_dataset_BUFFER.csv\")\n",
    "\n",
    "# Drop the 'Unnamed: 0' column from the DataFrame\n",
    "dataset = dataset.drop(columns=['Unnamed: 0'])\n",
    "\n",
    "# Check the columns after dropping\n",
    "print(dataset.columns)\n",
    "\n",
    "#dataset = dd.read_csv(\"/scratch/ope4/MERGE/RF.csv\")\n",
    "X = dataset.iloc[:, :-1].values\n",
    "y = dataset.iloc[:, -1].values\n",
    "print(X)\n",
    "print(y)"
   ]
  },
  {
   "cell_type": "code",
   "execution_count": 4,
   "id": "7a82dda9-1e8d-43cf-b5af-c45130800170",
   "metadata": {},
   "outputs": [
    {
     "name": "stdout",
     "output_type": "stream",
     "text": [
      "[[ 0.2531422   0.36860579  0.26347643 ... -0.24703722 -1.58422152\n",
      "  -1.1240456 ]\n",
      " [-1.48347531 -1.41196983 -1.33330981 ...  1.06029553 -1.41157489\n",
      "  -1.03730863]\n",
      " [-0.76599037 -0.65444447 -0.36091408 ...  0.68358762 -0.80731126\n",
      "  -0.16993802]\n",
      " ...\n",
      " [ 0.39762626  0.5966089   0.66489936 ...  1.2163286  -0.97995789\n",
      "  -1.21078279]\n",
      " [ 1.33936765  1.48443965  1.40162523 ...  0.47071418 -0.37569426\n",
      "  -0.08320105]\n",
      " [-1.06538254 -1.12985425 -1.03211788 ...  0.59665493  0.48753972\n",
      "  -0.34341219]]\n",
      "[[-0.3394607  -0.33644672 -0.43390624 ... -1.55548452 -1.32525116\n",
      "  -1.73120507]\n",
      " [ 0.30209329  0.48175501  0.6166087  ...  0.77832192  0.48753972\n",
      "   0.69743258]\n",
      " [ 1.03409673  1.06585156  1.21833491 ... -0.29050346 -0.03040018\n",
      "   0.09027332]\n",
      " ...\n",
      " [-0.63748228 -0.74738867 -0.43061956 ... -1.53653771  0.31489309\n",
      "  -0.08320105]\n",
      " [ 0.38400262  0.15624498  0.63763581 ... -0.84442029 -1.23892825\n",
      "  -0.60362332]\n",
      " [-2.11060539 -1.99203668 -1.96657876 ...  1.59415105  0.57386345\n",
      "   2.34543681]]\n",
      "[0 0 0 ... 0 0 1]\n",
      "[0 0 0 ... 0 0 0]\n"
     ]
    }
   ],
   "source": [
    "# Splitting the dataset into the Training set and Test set\n",
    "from sklearn.model_selection import train_test_split\n",
    "X_train, X_test, y_train, y_test = train_test_split(X, y, test_size = 0.3, random_state = 1)\n",
    "print(X_train)\n",
    "print(X_test)\n",
    "print(y_train)\n",
    "print(y_test)"
   ]
  },
  {
   "cell_type": "code",
   "execution_count": 5,
   "id": "941b7c00-5fc1-4e81-ab8e-262f413dc13d",
   "metadata": {
    "scrolled": true
   },
   "outputs": [],
   "source": [
    "#dataset.to_dask_array(lengths=True)\n",
    "\n",
    "##X.compute_chunk_sizes()\n",
    "#y.compute_chunk_sizes()\n"
   ]
  },
  {
   "cell_type": "code",
   "execution_count": 6,
   "id": "da797aff-7184-4d16-8993-252b6bc95486",
   "metadata": {
    "scrolled": true
   },
   "outputs": [],
   "source": [
    "#from dask_ml.model_selection import train_test_split\n",
    "\n",
    "#X_train, X_test, y_train, y_test = train_test_split(X, y, test_size=0.3, random_state=1, shuffle=True)\n"
   ]
  },
  {
   "cell_type": "code",
   "execution_count": 7,
   "id": "bfa7daf7-05f5-4f42-8e30-038f1baa9253",
   "metadata": {},
   "outputs": [
    {
     "name": "stdout",
     "output_type": "stream",
     "text": [
      "Accuracy: 0.8859141791044776\n"
     ]
    }
   ],
   "source": [
    "rf = RandomForestClassifier()\n",
    "rf.fit(X_train, y_train)\n",
    "\n",
    "\n",
    "y_pred = rf.predict(X_test)\n",
    "\n",
    "accuracy = accuracy_score(y_test, y_pred)\n",
    "print(\"Accuracy:\", accuracy)\n",
    "\n",
    "\n",
    "\n",
    "\n",
    "# Export the result to a text file\n",
    "with open(\"accuracy_result.txt\", \"w\") as file:\n",
    "    file.write(f\"Accuracy: {accuracy}\\n\")"
   ]
  },
  {
   "cell_type": "code",
   "execution_count": 8,
   "id": "7729faab-d42b-49d7-a771-0d602972e4ce",
   "metadata": {},
   "outputs": [
    {
     "name": "stdout",
     "output_type": "stream",
     "text": [
      "[[0 0]\n",
      " [0 0]\n",
      " [0 0]\n",
      " ...\n",
      " [0 0]\n",
      " [0 0]\n",
      " [0 0]]\n"
     ]
    }
   ],
   "source": [
    "# Predicting the Test set results\n",
    "y_pred = rf.predict(X_test)\n",
    "print(np.concatenate((y_pred.reshape(len(y_pred),1), y_test.reshape(len(y_test),1)),1))\n",
    "\n",
    "\n",
    "\n",
    "# Export the result to a text file\n",
    "with open(\"y_pred.txt\", \"w\") as file:\n",
    "    file.write(f\"y_pred: {y_pred}\\n\")"
   ]
  },
  {
   "cell_type": "code",
   "execution_count": 9,
   "id": "f587c482-f585-408a-ad1c-745a81ab4180",
   "metadata": {},
   "outputs": [],
   "source": [
    "# Export the first three decision trees from the forest\n",
    "\n",
    "#for i in range(3):\n",
    "#    tree = rf.estimators_[i]\n",
    " #   dot_data = export_graphviz(tree,\n",
    "#                               feature_names=X_train.columns,  \n",
    "#                               filled=True,  \n",
    "#                               max_depth=2, \n",
    "#                               impurity=False, \n",
    "#                               proportion=True)\n",
    "#    graph = graphviz.Source(dot_data)\n",
    "#    display(graph)"
   ]
  },
  {
   "cell_type": "code",
   "execution_count": 10,
   "id": "d7fce310-c188-40f2-80ef-4560fecf5e7a",
   "metadata": {},
   "outputs": [
    {
     "name": "stdout",
     "output_type": "stream",
     "text": [
      "Best Parameters: {'max_depth': 5, 'n_estimators': 309}\n",
      "Best Score: 0.9096460814617927\n"
     ]
    }
   ],
   "source": [
    "param_dist = {'n_estimators': randint(50,500),\n",
    "              'max_depth': randint(1,20)}\n",
    "\n",
    "# Create a random forest classifier\n",
    "rf = RandomForestClassifier()\n",
    "\n",
    "# Use random search to find the best hyperparameters\n",
    "rand_search = RandomizedSearchCV(rf, \n",
    "                                 param_distributions = param_dist, \n",
    "                                 n_iter=5, \n",
    "                                 cv=5)\n",
    "\n",
    "# Fit the random search object to the data\n",
    "rand_search.fit(X_train, y_train)\n",
    "\n",
    "\n",
    "\n",
    "\n",
    "\n",
    "\n",
    "# Extract results\n",
    "best_params = rand_search.best_params_\n",
    "best_score = rand_search.best_score_\n",
    "\n",
    "# Print to console\n",
    "print(\"Best Parameters:\", best_params)\n",
    "print(\"Best Score:\", best_score)\n",
    "\n",
    "# Export results to a file\n",
    "with open(\"random_search_results.txt\", \"w\") as file:\n",
    "    file.write(\"Randomized Search Results\\n\")\n",
    "    file.write(\"=========================\\n\")\n",
    "    file.write(f\"Best Parameters: {best_params}\\n\")\n",
    "    file.write(f\"Best Cross-Validated Score: {best_score:.4f}\\n\")"
   ]
  },
  {
   "cell_type": "code",
   "execution_count": null,
   "id": "ff3f152a-2690-47d6-9af4-990289c4d572",
   "metadata": {},
   "outputs": [],
   "source": [
    "# Create a random forest classifier\n",
    "rf = RandomForestClassifier()\n",
    "\n",
    "# Fit the random search object to the data\n",
    "rand_search.fit(X_train, y_train)\n"
   ]
  },
  {
   "cell_type": "code",
   "execution_count": null,
   "id": "1b1908c3-cbe5-46c2-aec3-b5400a8a4b5a",
   "metadata": {},
   "outputs": [],
   "source": [
    "# Create a variable for the best model\n",
    "best_rf = rand_search.best_estimator_\n",
    "\n",
    "# Print the best hyperparameters\n",
    "print('Best hyperparameters:',  rand_search.best_params_)\n",
    "\n",
    "\n",
    "# Export the result to a text file\n",
    "with open(\"best_rf.txt\", \"w\") as file:\n",
    "    file.write(f\"best_rf: {best_rf}\\n\")"
   ]
  },
  {
   "cell_type": "code",
   "execution_count": null,
   "id": "c14038f8-dd44-45ae-8cdd-903ce9d44a10",
   "metadata": {
    "scrolled": true
   },
   "outputs": [],
   "source": [
    "# Generate predictions with the best model\n",
    "y_pred = best_rf.predict(X_test)\n",
    "\n",
    "# Create the confusion matrix\n",
    "cm = confusion_matrix(y_test, y_pred)\n",
    "print(cm)\n",
    "ConfusionMatrixDisplay(confusion_matrix=cm).plot();\n",
    "\n",
    "\n",
    "\n",
    "\n",
    "\n",
    "\n",
    "\n",
    "\n",
    "\n",
    "# Export the confusion matrix to a text file\n",
    "with open(\"confusion_matrix.txt\", \"w\") as file:\n",
    "    file.write(\"Confusion Matrix:\\n\")\n",
    "    file.write(\"=================\\n\")\n",
    "    file.write(f\"{cm}\\n\")\n",
    "\n",
    "# Plot the confusion matrix\n",
    "fig, ax = plt.subplots(figsize=(6, 6))\n",
    "ConfusionMatrixDisplay(confusion_matrix=cm).plot(ax=ax)\n",
    "\n",
    "# Save the confusion matrix plot as an image\n",
    "plt.savefig(\"confusion_matrix_plot.png\")\n",
    "plt.show()"
   ]
  },
  {
   "cell_type": "code",
   "execution_count": null,
   "id": "b683bd90-c12f-442a-a7d9-65569def91a7",
   "metadata": {},
   "outputs": [],
   "source": []
  },
  {
   "cell_type": "code",
   "execution_count": null,
   "id": "ee2d2e0d-a679-49fa-a1c3-af89f550d880",
   "metadata": {},
   "outputs": [],
   "source": []
  },
  {
   "cell_type": "code",
   "execution_count": null,
   "id": "5951a633-83c4-4cd7-bf9e-1f94eac21128",
   "metadata": {},
   "outputs": [],
   "source": []
  },
  {
   "cell_type": "code",
   "execution_count": null,
   "id": "fcad8fb1-93b5-4652-9046-323fb86b0739",
   "metadata": {},
   "outputs": [],
   "source": []
  },
  {
   "cell_type": "code",
   "execution_count": null,
   "id": "1c04f032-e2ca-4bf3-acd9-e1c28d7566e4",
   "metadata": {},
   "outputs": [],
   "source": []
  },
  {
   "cell_type": "code",
   "execution_count": null,
   "id": "f4d007ed-6b49-48e9-bafa-b95eb6f2de61",
   "metadata": {},
   "outputs": [],
   "source": [
    "# Select the first 12 columns for X\n",
    "X = dataset.iloc[:, :-1].values  # First 12 columns\n",
    "\n",
    "# Select the last column for y\n",
    "y = dataset.iloc[:, -1].values  # Last column as the target\n",
    "\n",
    "# Check the shape of X and y to ensure it's correct\n",
    "print(X.shape)  # Should be (310761, 12)\n",
    "print(y.shape)  # Should be (310761,)\n"
   ]
  },
  {
   "cell_type": "code",
   "execution_count": null,
   "id": "682dfb96-4be9-464d-9985-1f91ec8ed5d0",
   "metadata": {},
   "outputs": [],
   "source": [
    "from sklearn.ensemble import RandomForestClassifier\n",
    "\n",
    "# Train the Random Forest model\n",
    "rf = RandomForestClassifier(n_estimators=335, random_state=42)\n",
    "rf.fit(X_train, y_train)\n",
    "\n",
    "# Evaluate the model\n",
    "accuracy_before = rf.score(X_test, y_test)\n",
    "print(f'Accuracy before feature selection: {accuracy_before:.2f}')"
   ]
  },
  {
   "cell_type": "code",
   "execution_count": null,
   "id": "50eaad6a-a57c-492d-bcd2-714fd3dd5cde",
   "metadata": {},
   "outputs": [],
   "source": [
    "# If X is a numpy array, convert it back to a DataFrame\n",
    "feature_names = ['LANDSAT_1', 'LANDSAT_2', 'LANDSAT_3', 'LANDSAT_4', 'LANDSAT_5', 'LANDSAT_6', \n",
    "                 'LANDSAT_7', 'LANDSAT_8', 'LANDSAT_9', 'prec', 'tmax', 'tmin']  # Manually specify feature names\n",
    "\n",
    "X = pd.DataFrame(X, columns=feature_names)\n"
   ]
  },
  {
   "cell_type": "code",
   "execution_count": null,
   "id": "3d144750-8e0f-4d07-8e96-dfa1b5888f2b",
   "metadata": {},
   "outputs": [],
   "source": [
    "# If X has 13 columns, provide 13 column names\n",
    "X = pd.DataFrame(X, columns=['LANDSAT_1', 'LANDSAT_2', 'LANDSAT_3', 'LANDSAT_4', 'LANDSAT_5', 'LANDSAT_6', 'LANDSAT_7', 'LANDSAT_8', 'LANDSAT_9', 'prec', 'tmax', 'tmin'])  # Adjust this list to include 13 names\n"
   ]
  },
  {
   "cell_type": "code",
   "execution_count": null,
   "id": "61bdf319-1810-47dd-8b1a-5b1266a8a5b7",
   "metadata": {
    "scrolled": true
   },
   "outputs": [],
   "source": [
    "importances = rf.feature_importances_\n",
    "\n",
    "# Create a list of feature names\n",
    "feature_names = X.columns\n",
    "\n",
    "# Create the DataFrame\n",
    "feature_importance_df = pd.DataFrame({\n",
    "    'Feature': feature_names,\n",
    "    'Importance': importances\n",
    "})\n",
    "\n",
    "# Rank features by importance\n",
    "feature_importance_df = feature_importance_df.sort_values(by='Importance', ascending=False)\n",
    "\n",
    "# Display the results\n",
    "print(feature_importance_df)\n"
   ]
  },
  {
   "cell_type": "code",
   "execution_count": null,
   "id": "29ad96d7-ebf8-45f2-b509-fa498eebdb8b",
   "metadata": {
    "scrolled": true
   },
   "outputs": [],
   "source": [
    "# Assuming feature_names contains the correct column names\n",
    "feature_names = list(X.columns)  # Retrieve column names from the original dataset\n",
    "\n",
    "# Convert X_train and X_test to pandas DataFrames\n",
    "X_train = pd.DataFrame(X_train, columns=feature_names)\n",
    "X_test = pd.DataFrame(X_test, columns=feature_names)\n",
    "\n",
    "# Extract the top 5 features by importance\n",
    "top_features = feature_importance_df['Feature'][0:5].values\n",
    "\n",
    "# Select the top features\n",
    "X_train_selected = X_train[top_features]  # Select top features by column names\n",
    "X_test_selected = X_test[top_features]    # Same for the test set\n",
    "\n",
    "# Display results\n",
    "print(\"Selected Training Features:\")\n",
    "print(X_train_selected.head())\n",
    "\n",
    "print(\"\\nSelected Testing Features:\")\n",
    "print(X_test_selected.head())"
   ]
  },
  {
   "cell_type": "code",
   "execution_count": null,
   "id": "302c036e-3ff9-41b8-9fd2-4d833d1cf0c0",
   "metadata": {},
   "outputs": [],
   "source": [
    "X_train_selected = X_train[top_features]"
   ]
  },
  {
   "cell_type": "code",
   "execution_count": null,
   "id": "92d7c9d1-cff5-40e8-a1e0-40a863dcb35b",
   "metadata": {},
   "outputs": [],
   "source": [
    "X_test_selected = X_test[top_features]"
   ]
  },
  {
   "cell_type": "code",
   "execution_count": null,
   "id": "95d89ced-dfdc-40ad-915f-e6e21779d4d9",
   "metadata": {},
   "outputs": [],
   "source": [
    "# Train the Random Forest model with selected features\n",
    "rf_selected = RandomForestClassifier(n_estimators=100, random_state=42)\n",
    "rf_selected.fit(X_train_selected, y_train)\n",
    "\n",
    "# Evaluate the model\n",
    "accuracy_after = rf_selected.score(X_test_selected, y_test)\n",
    "print(f'Accuracy after feature selection: {accuracy_after:.2f}')"
   ]
  },
  {
   "cell_type": "code",
   "execution_count": null,
   "id": "86eb992f-ce8f-4d3e-a8ba-b51b03b3061f",
   "metadata": {
    "scrolled": true
   },
   "outputs": [],
   "source": [
    "print(X_train_selected)"
   ]
  },
  {
   "cell_type": "code",
   "execution_count": null,
   "id": "28d811f5-b903-4eba-b727-4718919bcc92",
   "metadata": {},
   "outputs": [],
   "source": []
  }
 ],
 "metadata": {
  "kernelspec": {
   "display_name": "monsoon_env-conda-env",
   "language": "python",
   "name": "auto_monsoon_env"
  },
  "language_info": {
   "codemirror_mode": {
    "name": "ipython",
    "version": 3
   },
   "file_extension": ".py",
   "mimetype": "text/x-python",
   "name": "python",
   "nbconvert_exporter": "python",
   "pygments_lexer": "ipython3",
   "version": "3.9.20"
  }
 },
 "nbformat": 4,
 "nbformat_minor": 5
}
